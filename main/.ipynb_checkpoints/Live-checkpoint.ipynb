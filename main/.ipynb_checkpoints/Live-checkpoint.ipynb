{
 "cells": [
  {
   "cell_type": "code",
   "execution_count": 1,
   "metadata": {},
   "outputs": [],
   "source": [
    "import numpy as np\n",
    "from skimage import io\n",
    "import os\n",
    "import warnings\n",
    "\n",
    "warnings.filterwarnings(\"ignore\")"
   ]
  },
  {
   "cell_type": "code",
   "execution_count": 2,
   "metadata": {},
   "outputs": [],
   "source": [
    "def subscale(image, x, y, value, coff):\n",
    "\tfor w in range(coff):\n",
    "\t\tfor h in range(coff):\n",
    "\t\t\timage[x + w, y + h] = value\n",
    "\n",
    "def scale(image, coff):\n",
    "\tshape = image.shape\n",
    "\tnewimage = np.random.randint(0, 2, size=(image.shape[0] * coff, image.shape[1] * coff))\n",
    "\n",
    "\tfor i in range(shape[0]):\n",
    "\t\tfor j in range(shape[1]):\n",
    "\t\t\tsubscale(newimage, i * coff, j * coff, image[i, j], coff)\n",
    "\n",
    "\treturn newimage"
   ]
  },
  {
   "cell_type": "code",
   "execution_count": 3,
   "metadata": {},
   "outputs": [],
   "source": [
    "def next(x, y, shape):\n",
    "\treturn x - shape[0] if(x >= shape[0]) else x, y - shape[1] if(y >= shape[1]) else y\n",
    "\n",
    "def evolve(data):\n",
    "\tbase = np.copy(data)\n",
    "\tfield = np.copy(data)\n",
    "\tshape = field.shape\n",
    "\tfor i in range(shape[0]):\n",
    "\t\tfor j in range(shape[1]):\n",
    "\t\t\tfriendly_neighborhood = base[i - 1, j - 1] + base[i, j - 1] + base[next(i + 1, j - 1, shape)] + base[i - 1, j] + base[next(i + 1, j, shape)] + base[next(i - 1, j + 1, shape)] + base[next(i, j + 1, shape)] + base[next(i + 1, j + 1, shape)]\n",
    "\t\t\tif(base[i, j]):\n",
    "\t\t\t\tfield[i, j] = int(friendly_neighborhood == 2 or friendly_neighborhood == 3)\n",
    "\t\t\telse:\n",
    "\t\t\t\tfield[i, j] = int(friendly_neighborhood == 3)\n",
    "\treturn field"
   ]
  },
  {
   "cell_type": "code",
   "execution_count": 4,
   "metadata": {},
   "outputs": [],
   "source": [
    "def generateStateOfLive(base, iterations):\n",
    "\tstates = [base]\n",
    "\tfor i in range(iterations):\n",
    "\t\tstates.append(evolve(states[-1]))\n",
    "\n",
    "\treturn states\n",
    "\n",
    "def generateRandomStateOfLive(size, iterations):\n",
    "\tfield = np.random.randint(0, 2, size=size)\n",
    "\treturn generateStateOfLive(field, iterations)"
   ]
  },
  {
   "cell_type": "code",
   "execution_count": 11,
   "metadata": {},
   "outputs": [],
   "source": [
    "# Играем в жизнь\n",
    "states = generateRandomStateOfLive(size=(10, 10), iterations=10)\n",
    "\n",
    "# Сохраняем\n",
    "if not os.path.exists('images/kek'):\n",
    "\tos.makedirs('images/kek')\n",
    "\n",
    "for i in range(len(states)):\n",
    "\tio.imsave('images/kek/{:04d}.png'.format(i + 1), scale(states[i] * 255, 50))"
   ]
  },
  {
   "cell_type": "code",
   "execution_count": 15,
   "metadata": {},
   "outputs": [
    {
     "data": {
      "text/html": [
       "<img src=\"images/kek/0001.png\"/>"
      ],
      "text/plain": [
       "<IPython.core.display.Image object>"
      ]
     },
     "execution_count": 15,
     "metadata": {},
     "output_type": "execute_result"
    }
   ],
   "source": [
    "from IPython.display import Image\n",
    "Image(url='images/kek/0001.png')"
   ]
  },
  {
   "cell_type": "code",
   "execution_count": 6,
   "metadata": {},
   "outputs": [],
   "source": [
    "field = np.zeros((10, 10))\n",
    "field[0, 1] = 1\n",
    "field[1, 2] = 1\n",
    "field[2, 0] = 1\n",
    "field[2, 1] = 1\n",
    "field[2, 2] = 1\n",
    "states = generateStateOfLive(field, iterations=10)"
   ]
  }
 ],
 "metadata": {
  "kernelspec": {
   "display_name": "Python 3",
   "language": "python",
   "name": "python3"
  },
  "language_info": {
   "codemirror_mode": {
    "name": "ipython",
    "version": 3
   },
   "file_extension": ".py",
   "mimetype": "text/x-python",
   "name": "python",
   "nbconvert_exporter": "python",
   "pygments_lexer": "ipython3",
   "version": "3.6.5"
  }
 },
 "nbformat": 4,
 "nbformat_minor": 2
}
