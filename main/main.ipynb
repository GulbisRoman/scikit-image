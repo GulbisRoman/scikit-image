{
 "cells": [
  {
   "cell_type": "markdown",
   "metadata": {},
   "source": [
    "Часть 0: Знакомство с scikit-image\n",
    "======\n",
    "\n",
    "**scikit-image** - библиотека обработки изображений с открытым исходным кодом для языка программирования Python.\n",
    "\n",
    "### Краткий ликбез в SciPy\n",
    "**SciPy** - это экосистема программного обеспечения с открытым исходным кодом для математических, научных и инженерных расчетов, основанная на Python.\n",
    "\n",
    "Она состоит из следующих пакетов:\n",
    "\n",
    "    1. NumPy - основной пакет N-мерных массивов\n",
    "    2. SciPy library - фундаментальная библиотека для научных вычислений\n",
    "    3. Matplotlib - комплексное 2D-построение\n",
    "    4. IPython - расширенная интерактивная консоль\n",
    "    5. Sympy - символьные вычисления\n",
    "    6. pandas - структуры данных и анализ\n",
    "    \n",
    "### SciKits\n",
    "SciKits (сокращение от SciPy Toolkits), это дополнительные пакеты для SciPy, размещеные и разработаные отдельно и независимо от основного дистрибутива SciPy. \n",
    "\n",
    "Пакеты упаковываются как набор инструментов, когда: \n",
    "* Пакет считается слишком специализированным, чтобы жить в самом SciPy \n",
    "* Пакет имеет лицензию GPL (или аналогичную), которая несовместима с лицензией BSD от SciPy \n",
    "* Пакет должен быть включен в SciPy, но разработка все еще продолжается.\n",
    "\n",
    "\n",
    "### scikit-image\n",
    "\n",
    "scikit-image - это библиотека с открытым исходным кодом для обработки изображений, разработанная для языка Python.\n",
    "\n",
    "Она содержит в себе большое количество готовых алгоритмов обработки изображений.\n",
    "\n",
    "scikit-image является SciKit и расширяет scipy.ndimage для обеспечения универсального набора процедур обработки изображений.\n",
    "\n",
    "### Установка\n",
    "\n",
    "Для установки можно использовать pip:\n",
    "\n",
    "```\n",
    "pip install -U scikit-image\n",
    "```\n",
    "\n",
    "Или конду:\n",
    "\n",
    "```\n",
    "conda install -c conda-forge scikit-image\n",
    "```\n",
    "\n",
    "[Или собрать проект из исходников](https://scikit-image.org/docs/dev/install.html)\n"
   ]
  },
  {
   "cell_type": "markdown",
   "metadata": {},
   "source": [
    " # Часть 1: Игры с numpy"
   ]
  },
  {
   "cell_type": "markdown",
   "metadata": {},
   "source": [
    "В scikit-image изображения представлены ввиде массивов NumPy размерностей N * M или N * M * 3 или N * M * 4.\n",
    "\n",
    "Давайте это проверим!"
   ]
  },
  {
   "cell_type": "markdown",
   "metadata": {},
   "source": [
    "В начале достанем из интернетов произвольную картинку для экспериментов:"
   ]
  },
  {
   "cell_type": "code",
   "execution_count": 2,
   "metadata": {},
   "outputs": [
    {
     "data": {
      "text/html": [
       "<img src=\"images/pikachu.png\"/>"
      ],
      "text/plain": [
       "<IPython.core.display.Image object>"
      ]
     },
     "execution_count": 2,
     "metadata": {},
     "output_type": "execute_result"
    }
   ],
   "source": [
    "from IPython.display import Image\n",
    "Image(url='images/pikachu.png')"
   ]
  },
  {
   "cell_type": "markdown",
   "metadata": {},
   "source": [
    "Отключим warning'и:"
   ]
  },
  {
   "cell_type": "code",
   "execution_count": 3,
   "metadata": {},
   "outputs": [],
   "source": [
    "import warnings\n",
    "warnings.filterwarnings(\"ignore\")"
   ]
  },
  {
   "cell_type": "markdown",
   "metadata": {},
   "source": [
    "Подключим библиотеки и загрузим нашу картинку:"
   ]
  },
  {
   "cell_type": "code",
   "execution_count": 5,
   "metadata": {},
   "outputs": [],
   "source": [
    "import numpy as np\n",
    "from  skimage import io\n",
    "image = io.imread('images/pikachu.png')"
   ]
  },
  {
   "cell_type": "markdown",
   "metadata": {},
   "source": [
    "Убедимся, что это numpy"
   ]
  },
  {
   "cell_type": "code",
   "execution_count": 6,
   "metadata": {},
   "outputs": [
    {
     "name": "stdout",
     "output_type": "stream",
     "text": [
      "type: <class 'numpy.ndarray'>\n",
      "shape: (524, 720, 4)\n",
      "min: 0\n",
      "mean: 146.54529328350296\n",
      "max: 255\n"
     ]
    }
   ],
   "source": [
    "print('type:', type(image))\n",
    "print('shape:', image.shape)\n",
    "print('min:', image.min())\n",
    "print('mean:', image.mean())\n",
    "print('max:', image.max())"
   ]
  },
  {
   "cell_type": "markdown",
   "metadata": {},
   "source": [
    "Доберемся до конкретного пикселя"
   ]
  },
  {
   "cell_type": "code",
   "execution_count": 8,
   "metadata": {},
   "outputs": [
    {
     "name": "stdout",
     "output_type": "stream",
     "text": [
      "[  1 149  54 255]\n"
     ]
    }
   ],
   "source": [
    "print(image[100, 100])"
   ]
  },
  {
   "cell_type": "markdown",
   "metadata": {},
   "source": [
    "Поиграем со срезами"
   ]
  },
  {
   "cell_type": "code",
   "execution_count": 10,
   "metadata": {},
   "outputs": [
    {
     "data": {
      "text/html": [
       "<img src=\"images/h.png\"/>"
      ],
      "text/plain": [
       "<IPython.core.display.Image object>"
      ]
     },
     "execution_count": 10,
     "metadata": {},
     "output_type": "execute_result"
    }
   ],
   "source": [
    "image[345:370, 375:395] = [10, 10, 10, 255]\n",
    "io.imsave('images/h.png', image)\n",
    "Image(url='images/h.png')"
   ]
  },
  {
   "cell_type": "markdown",
   "metadata": {},
   "source": [
    "А теперь с масками"
   ]
  },
  {
   "cell_type": "code",
   "execution_count": 11,
   "metadata": {},
   "outputs": [
    {
     "data": {
      "text/html": [
       "<img src=\"images/g.png\"/>"
      ],
      "text/plain": [
       "<IPython.core.display.Image object>"
      ]
     },
     "execution_count": 11,
     "metadata": {},
     "output_type": "execute_result"
    }
   ],
   "source": [
    "image = io.imread('images/pikachu.png')\n",
    "mask = np.logical_and(np.logical_and(image[:, :, 0] > 150, image[:, :, 1] > 150), image[:, :, 2] < 150)\n",
    "image[mask] = [128, 166, 255, 255]\n",
    "io.imsave('images/g.png', image)\n",
    "Image(url='images/g.png')"
   ]
  },
  {
   "cell_type": "markdown",
   "metadata": {},
   "source": [
    "Выглядит отлично. Из этого можно заключить, что это настоящий NumPy"
   ]
  },
  {
   "cell_type": "markdown",
   "metadata": {},
   "source": [
    "# Часть 2: В которой мы наконец-то занимаемся чем-то полезным"
   ]
  },
  {
   "cell_type": "markdown",
   "metadata": {},
   "source": [
    "Все любят Стивена Вольфрама, а Стивен Вольфрам в свою очередь любит клеточные автоматы.\n",
    "\n",
    "Почему бы нам не написать один из самых популярных и знаменитых клеточных автоматов? (Да-да я про игру Жизнь)"
   ]
  },
  {
   "cell_type": "markdown",
   "metadata": {},
   "source": [
    "Эти функции будут заниматся масштабированием нашей вселенной. Не очень удобно смореть на клетки размером в 1 пиксель."
   ]
  },
  {
   "cell_type": "code",
   "execution_count": 12,
   "metadata": {},
   "outputs": [],
   "source": [
    "def subscale(image, x, y, value, coff):\n",
    "\tfor w in range(coff):\n",
    "\t\tfor h in range(coff):\n",
    "\t\t\timage[x + w, y + h] = value\n",
    "\n",
    "def scale(image, coff):\n",
    "\tshape = image.shape\n",
    "\tnewimage = np.random.randint(0, 2, size=(image.shape[0] * coff, image.shape[1] * coff))\n",
    "\n",
    "\tfor i in range(shape[0]):\n",
    "\t\tfor j in range(shape[1]):\n",
    "\t\t\tsubscale(newimage, i * coff, j * coff, image[i, j], coff)\n",
    "\n",
    "\treturn newimage"
   ]
  },
  {
   "cell_type": "markdown",
   "metadata": {},
   "source": [
    "Эта связка функций будет отвечать за эволюцию нашей вселенной. Иными словами она отвечает за генерацию состояния следующего шага."
   ]
  },
  {
   "cell_type": "code",
   "execution_count": 13,
   "metadata": {},
   "outputs": [],
   "source": [
    "def next(x, y, shape):\n",
    "\treturn x - shape[0] if(x >= shape[0]) else x, y - shape[1] if(y >= shape[1]) else y\n",
    "\n",
    "def evolve(data):\n",
    "\tbase = np.copy(data)\n",
    "\tfield = np.copy(data)\n",
    "\tshape = field.shape\n",
    "\tfor i in range(shape[0]):\n",
    "\t\tfor j in range(shape[1]):\n",
    "\t\t\tfriendly_neighborhood = base[i - 1, j - 1] + base[i, j - 1] + base[next(i + 1, j - 1, shape)] + base[i - 1, j] + base[next(i + 1, j, shape)] + base[next(i - 1, j + 1, shape)] + base[next(i, j + 1, shape)] + base[next(i + 1, j + 1, shape)]\n",
    "\t\t\tif(base[i, j]):\n",
    "\t\t\t\tfield[i, j] = int(friendly_neighborhood == 2 or friendly_neighborhood == 3)\n",
    "\t\t\telse:\n",
    "\t\t\t\tfield[i, j] = int(friendly_neighborhood == 3)\n",
    "\treturn field"
   ]
  },
  {
   "cell_type": "markdown",
   "metadata": {},
   "source": [
    "Простые обертки, которые помогут нам не сильно заморачиваться с кодом:"
   ]
  },
  {
   "cell_type": "code",
   "execution_count": 14,
   "metadata": {},
   "outputs": [],
   "source": [
    "def generateStateOfLive(base, iterations):\n",
    "\tstates = [base]\n",
    "\tfor i in range(iterations):\n",
    "\t\tstates.append(evolve(states[-1]))\n",
    "\n",
    "\treturn states\n",
    "\n",
    "def generateRandomStateOfLive(size, iterations):\n",
    "\tfield = np.random.randint(0, 2, size=size)\n",
    "\treturn generateStateOfLive(field, iterations)"
   ]
  },
  {
   "cell_type": "markdown",
   "metadata": {},
   "source": [
    "Ура, начинаем играть :)"
   ]
  },
  {
   "cell_type": "code",
   "execution_count": 16,
   "metadata": {},
   "outputs": [],
   "source": [
    "import os\n",
    "\n",
    "# Играем в жизнь\n",
    "states = generateRandomStateOfLive(size=(10, 10), iterations=10)\n",
    "\n",
    "# Сохраняем\n",
    "if not os.path.exists('images/kek'):\n",
    "\tos.makedirs('images/kek')\n",
    "\n",
    "for i in range(len(states)):\n",
    "\tio.imsave('images/kek/{:04d}.png'.format(i + 1), scale(states[i] * 255, 50))"
   ]
  },
  {
   "cell_type": "code",
   "execution_count": 17,
   "metadata": {},
   "outputs": [
    {
     "data": {
      "text/html": [
       "<img src=\"images/kek/0001.png\"/>"
      ],
      "text/plain": [
       "<IPython.core.display.Image object>"
      ]
     },
     "execution_count": 17,
     "metadata": {},
     "output_type": "execute_result"
    }
   ],
   "source": [
    "from IPython.display import Image\n",
    "Image(url='images/kek/0001.png')"
   ]
  },
  {
   "cell_type": "markdown",
   "metadata": {},
   "source": [
    "А вот этот кусочек кода сделает глайдер)"
   ]
  },
  {
   "cell_type": "code",
   "execution_count": 18,
   "metadata": {},
   "outputs": [],
   "source": [
    "field = np.zeros((10, 10))\n",
    "field[0, 1] = 1\n",
    "field[1, 2] = 1\n",
    "field[2, 0] = 1\n",
    "field[2, 1] = 1\n",
    "field[2, 2] = 1\n",
    "states = generateStateOfLive(field, iterations=10)"
   ]
  },
  {
   "cell_type": "markdown",
   "metadata": {},
   "source": [
    "# Часть 3: Анализируем производительность"
   ]
  },
  {
   "cell_type": "markdown",
   "metadata": {},
   "source": [
    "Пока мы не сильно отошли от игры в жизнь давайте возьмем ее за основу для анализа производительности этой библиотеки. \n",
    "Как ее конечные пользователи мы должны знать как хорошо она справляется со своими обязаностями.\n",
    "Конечно, основной смысл этой библиотеки это алгоритмы (и мы до них еще доберемся!), но алгоритмы сложно анализировать в контексте библиотеки и в любом случае они будут реализованы через элементарные функции библиотеки.\n"
   ]
  },
  {
   "cell_type": "code",
   "execution_count": null,
   "metadata": {},
   "outputs": [],
   "source": []
  }
 ],
 "metadata": {
  "kernelspec": {
   "display_name": "Python 3",
   "language": "python",
   "name": "python3"
  },
  "language_info": {
   "codemirror_mode": {
    "name": "ipython",
    "version": 3
   },
   "file_extension": ".py",
   "mimetype": "text/x-python",
   "name": "python",
   "nbconvert_exporter": "python",
   "pygments_lexer": "ipython3",
   "version": "3.6.5"
  }
 },
 "nbformat": 4,
 "nbformat_minor": 2
}
