{
 "cells": [
  {
   "cell_type": "markdown",
   "metadata": {},
   "source": [
    "Часть 0: Знакомство с scikit-image\n",
    "======\n",
    "\n",
    "**scikit-image** - библиотека обработки изображений с открытым исходным кодом для языка программирования Python.\n",
    "\n",
    "### Краткий ликбез в SciPy\n",
    "**SciPy** - это экосистема программного обеспечения с открытым исходным кодом для математических, научных и инженерных расчетов, основанная на Python.\n",
    "\n",
    "Она состоит из следующих пакетов:\n",
    "\n",
    "    1. NumPy - основной пакет N-мерных массивов\n",
    "    2. SciPy library - фундаментальная библиотека для научных вычислений\n",
    "    3. Matplotlib - комплексное 2D-построение\n",
    "    4. IPython - расширенная интерактивная консоль\n",
    "    5. Sympy - символьные вычисления\n",
    "    6. pandas - структуры данных и анализ\n",
    "    \n",
    "### SciKits\n",
    "SciKits (сокращение от SciPy Toolkits), это дополнительные пакеты для SciPy, размещеные и разработаные отдельно и независимо от основного дистрибутива SciPy. \n",
    "\n",
    "Пакеты упаковываются как набор инструментов, когда: \n",
    "* Пакет считается слишком специализированным, чтобы жить в самом SciPy \n",
    "* Пакет имеет лицензию GPL (или аналогичную), которая несовместима с лицензией BSD от SciPy \n",
    "* Пакет должен быть включен в SciPy, но разработка все еще продолжается.\n",
    "\n",
    "\n",
    "### scikit-image\n",
    "\n",
    "scikit-image - это библиотека с открытым исходным кодом для обработки изображений, разработанная для языка Python.\n",
    "\n",
    "Она содержит в себе большое количество готовых алгоритмов обработки изображений.\n",
    "\n",
    "scikit-image является SciKit и расширяет scipy.ndimage для обеспечения универсального набора процедур обработки изображений.\n",
    "\n",
    "### Установка\n",
    "\n",
    "Для установки можно использовать pip:\n",
    "\n",
    "```\n",
    "pip install -U scikit-image\n",
    "```\n",
    "\n",
    "Или конду:\n",
    "\n",
    "```\n",
    "conda install -c conda-forge scikit-image\n",
    "```\n",
    "\n",
    "[Или собрать проект из исходников](https://scikit-image.org/docs/dev/install.html)\n"
   ]
  },
  {
   "cell_type": "markdown",
   "metadata": {},
   "source": [
    " # Часть 1: Игры с numpy"
   ]
  },
  {
   "cell_type": "markdown",
   "metadata": {},
   "source": [
    "В scikit-image изображения представлены ввиде массивов NumPy размерностей N * M или N * M * 3 или N * M * 4.\n",
    "\n",
    "Давайте это проверим!"
   ]
  },
  {
   "cell_type": "markdown",
   "metadata": {},
   "source": [
    "В начале достанем из интернетов произвольную картинку для экспериментов:"
   ]
  },
  {
   "cell_type": "code",
   "execution_count": 2,
   "metadata": {},
   "outputs": [
    {
     "data": {
      "text/html": [
       "<img src=\"images/pikachu.png\"/>"
      ],
      "text/plain": [
       "<IPython.core.display.Image object>"
      ]
     },
     "execution_count": 2,
     "metadata": {},
     "output_type": "execute_result"
    }
   ],
   "source": [
    "from IPython.display import Image\n",
    "Image(url='images/pikachu.png')"
   ]
  },
  {
   "cell_type": "markdown",
   "metadata": {},
   "source": [
    "Отключим warning'и:"
   ]
  },
  {
   "cell_type": "code",
   "execution_count": 3,
   "metadata": {},
   "outputs": [],
   "source": [
    "import warnings\n",
    "warnings.filterwarnings(\"ignore\")"
   ]
  },
  {
   "cell_type": "markdown",
   "metadata": {},
   "source": [
    "Подключим библиотеки и загрузим нашу картинку:"
   ]
  },
  {
   "cell_type": "code",
   "execution_count": 5,
   "metadata": {},
   "outputs": [],
   "source": [
    "import numpy as np\n",
    "from  skimage import io\n",
    "image = io.imread('images/pikachu.png')"
   ]
  },
  {
   "cell_type": "markdown",
   "metadata": {},
   "source": [
    "Убедимся, что это numpy"
   ]
  },
  {
   "cell_type": "code",
   "execution_count": 6,
   "metadata": {},
   "outputs": [
    {
     "name": "stdout",
     "output_type": "stream",
     "text": [
      "type: <class 'numpy.ndarray'>\n",
      "shape: (524, 720, 4)\n",
      "min: 0\n",
      "mean: 146.54529328350296\n",
      "max: 255\n"
     ]
    }
   ],
   "source": [
    "print('type:', type(image))\n",
    "print('shape:', image.shape)\n",
    "print('min:', image.min())\n",
    "print('mean:', image.mean())\n",
    "print('max:', image.max())"
   ]
  },
  {
   "cell_type": "markdown",
   "metadata": {},
   "source": [
    "Доберемся до конкретного пикселя"
   ]
  },
  {
   "cell_type": "code",
   "execution_count": 8,
   "metadata": {},
   "outputs": [
    {
     "name": "stdout",
     "output_type": "stream",
     "text": [
      "[  1 149  54 255]\n"
     ]
    }
   ],
   "source": [
    "print(image[100, 100])"
   ]
  },
  {
   "cell_type": "markdown",
   "metadata": {},
   "source": [
    "Поиграем со срезами"
   ]
  },
  {
   "cell_type": "code",
   "execution_count": 10,
   "metadata": {},
   "outputs": [
    {
     "data": {
      "text/html": [
       "<img src=\"images/h.png\"/>"
      ],
      "text/plain": [
       "<IPython.core.display.Image object>"
      ]
     },
     "execution_count": 10,
     "metadata": {},
     "output_type": "execute_result"
    }
   ],
   "source": [
    "image[345:370, 375:395] = [10, 10, 10, 255]\n",
    "io.imsave('images/h.png', image)\n",
    "Image(url='images/h.png')"
   ]
  },
  {
   "cell_type": "markdown",
   "metadata": {},
   "source": [
    "А теперь с масками"
   ]
  },
  {
   "cell_type": "code",
   "execution_count": 11,
   "metadata": {},
   "outputs": [
    {
     "data": {
      "text/html": [
       "<img src=\"images/g.png\"/>"
      ],
      "text/plain": [
       "<IPython.core.display.Image object>"
      ]
     },
     "execution_count": 11,
     "metadata": {},
     "output_type": "execute_result"
    }
   ],
   "source": [
    "image = io.imread('images/pikachu.png')\n",
    "mask = np.logical_and(np.logical_and(image[:, :, 0] > 150, image[:, :, 1] > 150), image[:, :, 2] < 150)\n",
    "image[mask] = [128, 166, 255, 255]\n",
    "io.imsave('images/g.png', image)\n",
    "Image(url='images/g.png')"
   ]
  },
  {
   "cell_type": "markdown",
   "metadata": {},
   "source": [
    "Выглядит отлично. Из этого можно заключить, что это настоящий NumPy"
   ]
  },
  {
   "cell_type": "markdown",
   "metadata": {},
   "source": [
    "# Часть 2: В которой мы наконец-то занимаемся чем-то полезным"
   ]
  },
  {
   "cell_type": "markdown",
   "metadata": {},
   "source": [
    "Все любят Стивена Вольфрама, а Стивен Вольфрам в свою очередь любит клеточные автоматы.\n",
    "\n",
    "Почему бы нам не написать один из самых популярных и знаменитых клеточных автоматов? (Да-да я про игру Жизнь)"
   ]
  },
  {
   "cell_type": "markdown",
   "metadata": {},
   "source": [
    "Эти функции будут заниматся масштабированием нашей вселенной. Не очень удобно смореть на клетки размером в 1 пиксель."
   ]
  },
  {
   "cell_type": "code",
   "execution_count": 12,
   "metadata": {},
   "outputs": [],
   "source": [
    "def subscale(image, x, y, value, coff):\n",
    "\tfor w in range(coff):\n",
    "\t\tfor h in range(coff):\n",
    "\t\t\timage[x + w, y + h] = value\n",
    "\n",
    "def scale(image, coff):\n",
    "\tshape = image.shape\n",
    "\tnewimage = np.random.randint(0, 2, size=(image.shape[0] * coff, image.shape[1] * coff))\n",
    "\n",
    "\tfor i in range(shape[0]):\n",
    "\t\tfor j in range(shape[1]):\n",
    "\t\t\tsubscale(newimage, i * coff, j * coff, image[i, j], coff)\n",
    "\n",
    "\treturn newimage"
   ]
  },
  {
   "cell_type": "markdown",
   "metadata": {},
   "source": [
    "Эта связка функций будет отвечать за эволюцию нашей вселенной. Иными словами она отвечает за генерацию состояния следующего шага."
   ]
  },
  {
   "cell_type": "code",
   "execution_count": 13,
   "metadata": {},
   "outputs": [],
   "source": [
    "def next(x, y, shape):\n",
    "\treturn x - shape[0] if(x >= shape[0]) else x, y - shape[1] if(y >= shape[1]) else y\n",
    "\n",
    "def evolve(data):\n",
    "\tbase = np.copy(data)\n",
    "\tfield = np.copy(data)\n",
    "\tshape = field.shape\n",
    "\tfor i in range(shape[0]):\n",
    "\t\tfor j in range(shape[1]):\n",
    "\t\t\tfriendly_neighborhood = base[i - 1, j - 1] + base[i, j - 1] + base[next(i + 1, j - 1, shape)] + base[i - 1, j] + base[next(i + 1, j, shape)] + base[next(i - 1, j + 1, shape)] + base[next(i, j + 1, shape)] + base[next(i + 1, j + 1, shape)]\n",
    "\t\t\tif(base[i, j]):\n",
    "\t\t\t\tfield[i, j] = int(friendly_neighborhood == 2 or friendly_neighborhood == 3)\n",
    "\t\t\telse:\n",
    "\t\t\t\tfield[i, j] = int(friendly_neighborhood == 3)\n",
    "\treturn field"
   ]
  },
  {
   "cell_type": "markdown",
   "metadata": {},
   "source": [
    "Простые обертки, которые помогут нам не сильно заморачиваться с кодом:"
   ]
  },
  {
   "cell_type": "code",
   "execution_count": 14,
   "metadata": {},
   "outputs": [],
   "source": [
    "def generateStateOfLive(base, iterations):\n",
    "\tstates = [base]\n",
    "\tfor i in range(iterations):\n",
    "\t\tstates.append(evolve(states[-1]))\n",
    "\n",
    "\treturn states\n",
    "\n",
    "def generateRandomStateOfLive(size, iterations):\n",
    "\tfield = np.random.randint(0, 2, size=size)\n",
    "\treturn generateStateOfLive(field, iterations)"
   ]
  },
  {
   "cell_type": "markdown",
   "metadata": {},
   "source": [
    "Ура, начинаем играть :)"
   ]
  },
  {
   "cell_type": "code",
   "execution_count": 16,
   "metadata": {},
   "outputs": [],
   "source": [
    "import os\n",
    "\n",
    "# Играем в жизнь\n",
    "states = generateRandomStateOfLive(size=(10, 10), iterations=10)\n",
    "\n",
    "# Сохраняем\n",
    "if not os.path.exists('images/kek'):\n",
    "\tos.makedirs('images/kek')\n",
    "\n",
    "for i in range(len(states)):\n",
    "\tio.imsave('images/kek/{:04d}.png'.format(i + 1), scale(states[i] * 255, 50))"
   ]
  },
  {
   "cell_type": "code",
   "execution_count": 17,
   "metadata": {},
   "outputs": [
    {
     "data": {
      "text/html": [
       "<img src=\"images/kek/0001.png\"/>"
      ],
      "text/plain": [
       "<IPython.core.display.Image object>"
      ]
     },
     "execution_count": 17,
     "metadata": {},
     "output_type": "execute_result"
    }
   ],
   "source": [
    "from IPython.display import Image\n",
    "Image(url='images/kek/0001.png')"
   ]
  },
  {
   "cell_type": "markdown",
   "metadata": {},
   "source": [
    "А вот этот кусочек кода сделает глайдер)"
   ]
  },
  {
   "cell_type": "code",
   "execution_count": 18,
   "metadata": {},
   "outputs": [],
   "source": [
    "field = np.zeros((10, 10))\n",
    "field[0, 1] = 1\n",
    "field[1, 2] = 1\n",
    "field[2, 0] = 1\n",
    "field[2, 1] = 1\n",
    "field[2, 2] = 1\n",
    "states = generateStateOfLive(field, iterations=10)"
   ]
  },
  {
   "cell_type": "markdown",
   "metadata": {},
   "source": [
    "# Часть 3: Анализируем производительность"
   ]
  },
  {
   "cell_type": "markdown",
   "metadata": {},
   "source": [
    "> 640K ought to be enough for anybody (с) probably not Bill Gates"
   ]
  },
  {
   "cell_type": "markdown",
   "metadata": {},
   "source": [
    "Пока мы не сильно отошли от игры в жизнь давайте возьмем ее за основу для анализа производительности этой библиотеки. \n",
    "Как ее конечные пользователи мы должны знать как хорошо она справляется со своими обязаностями.\n",
    "Конечно, основной смысл этой библиотеки это алгоритмы (и мы до них еще доберемся!), но алгоритмы сложно анализировать в контексте библиотеки и в любом случае они будут реализованы через элементарные функции библиотеки.\n"
   ]
  },
  {
   "cell_type": "markdown",
   "metadata": {},
   "source": [
    "Сгенерируем какую-нибудь большую вселенную, при этом не будем ее масштабировать"
   ]
  },
  {
   "cell_type": "code",
   "execution_count": 19,
   "metadata": {},
   "outputs": [
    {
     "data": {
      "text/html": [
       "<img src=\"images/base.png\"/>"
      ],
      "text/plain": [
       "<IPython.core.display.Image object>"
      ]
     },
     "execution_count": 19,
     "metadata": {},
     "output_type": "execute_result"
    }
   ],
   "source": [
    "base = np.random.randint(0, 2, size=(100, 100))\n",
    "io.imsave('images/base.png', base * 255)\n",
    "Image(url='images/base.png')"
   ]
  },
  {
   "cell_type": "markdown",
   "metadata": {},
   "source": [
    "Нагло украдем полезную функцию, которая посчитает для нас количество байт, занимаемое объектом в памяти"
   ]
  },
  {
   "cell_type": "code",
   "execution_count": 23,
   "metadata": {},
   "outputs": [],
   "source": [
    "import sys\n",
    "def get_size(obj, seen=None):\n",
    "\t# From https://goshippo.com/blog/measure-real-size-any-python-object/\n",
    "\t# Recursively finds size of objects\n",
    "\tsize = sys.getsizeof(obj)\n",
    "\tif seen is None:\n",
    "\t\tseen = set()\n",
    "\tobj_id = id(obj)\n",
    "\tif obj_id in seen:\n",
    "\t\treturn 0\n",
    "\n",
    "\t# Important mark as seen *before* entering recursion to gracefully handle\n",
    "\t# self-referential objects\n",
    "\tseen.add(obj_id)\n",
    "\tif isinstance(obj, dict):\n",
    "\t\tsize += sum([get_size(v, seen) for v in obj.values()])\n",
    "\t\tsize += sum([get_size(k, seen) for k in obj.keys()])\n",
    "\telif hasattr(obj, '__dict__'):\n",
    "\t\tsize += get_size(obj.__dict__, seen)\n",
    "\telif hasattr(obj, '__iter__') and not isinstance(obj, (str, bytes, bytearray)):\n",
    "\t\tsize += sum([get_size(i, seen) for i in obj])\n",
    "\treturn size"
   ]
  },
  {
   "cell_type": "markdown",
   "metadata": {},
   "source": [
    "Нагенерим много состояний:"
   ]
  },
  {
   "cell_type": "code",
   "execution_count": 21,
   "metadata": {},
   "outputs": [],
   "source": [
    "base = io.imread('images/base.png') // 255\n",
    "states = generateStateOfLive(base, 100)"
   ]
  },
  {
   "cell_type": "markdown",
   "metadata": {},
   "source": [
    "Посмотрим количество байт в памяти"
   ]
  },
  {
   "cell_type": "code",
   "execution_count": 24,
   "metadata": {},
   "outputs": [
    {
     "name": "stdout",
     "output_type": "stream",
     "text": [
      "1022674\n"
     ]
    }
   ],
   "source": [
    "print(get_size(states))"
   ]
  },
  {
   "cell_type": "markdown",
   "metadata": {},
   "source": [
    "Примерно один мегабайт. Чтож, не плохо"
   ]
  },
  {
   "cell_type": "markdown",
   "metadata": {},
   "source": [
    "А теперь займемся измерением скорости выполнения. Конечно можно взять модуль time или аналогичный, но он не очень точный. Мы же хотим подойти к вопросу максимально педантично, поэтому будем использовать значение счетчика TSC. Для этого воспользуемся WinAPI функциями"
   ]
  },
  {
   "cell_type": "code",
   "execution_count": null,
   "metadata": {},
   "outputs": [],
   "source": [
    "import ctypes\n",
    "import ctypes.wintypes\n",
    "\n",
    "kernel32 = ctypes.WinDLL('kernel32', use_last_error=True)\n",
    "starting_time = ctypes.wintypes.LARGE_INTEGER()\n",
    "ending_time = ctypes.wintypes.LARGE_INTEGER()\n",
    "elapsed_microseconds = ctypes.wintypes.LARGE_INTEGER()\n",
    "frequency = ctypes.wintypes.LARGE_INTEGER()"
   ]
  },
  {
   "cell_type": "markdown",
   "metadata": {},
   "source": [
    "Далее очевидно"
   ]
  },
  {
   "cell_type": "code",
   "execution_count": null,
   "metadata": {},
   "outputs": [],
   "source": [
    "kernel32.QueryPerformanceFrequency(ctypes.byref(frequency)) \n",
    "kernel32.QueryPerformanceCounter(ctypes.byref(starting_time))\n",
    "\n",
    "base = io.imread('images/base.png') // 255\n",
    "states = generateStateOfLive(base, 100)\n",
    "\n",
    "kernel32.QueryPerformanceCounter(ctypes.byref(ending_time))\n",
    "elapsed_microseconds = ending_time.value - starting_time.value\n",
    "elapsed_microseconds *= 1000\n",
    "elapsed_microseconds /= frequency.value\n",
    "print(elapsed_microseconds)"
   ]
  },
  {
   "cell_type": "markdown",
   "metadata": {},
   "source": [
    "Ну и Jupyter конечно же не позволит вам выполнить этот код, поэтому вам придется поверить мне на слово (или форкнуть репозиторий и проверить самостоятельно - [исходники](https://github.com/Old1906/scikit-image/tree/master/main/sources/effectiveness)).\n",
    "\n",
    "На моем копьютере я получил результат 32702 миллисекунды, что приблизительно равно 32 секундам.\n",
    "\n",
    "Сложно сказать много это или мало....\n",
    "\n",
    "Поэтому я написал [аналогичную программу на C#](https://github.com/Old1906/scikit-image/blob/master/main/sources/effectiveness/Program.cs)\n",
    "\n",
    "Результат ее работы:\n",
    "\n",
    "Потрачено 1012796 байт памяти - тот же мегабайт.\n",
    "\n",
    "А скорость выполнения 2322 миллисекунды, что приблизительно равно 2 секундам."
   ]
  },
  {
   "cell_type": "markdown",
   "metadata": {},
   "source": [
    "# Часть 4: В которой мы мучаем алгоритмы"
   ]
  },
  {
   "cell_type": "markdown",
   "metadata": {},
   "source": [
    "# Детектор границ Канни"
   ]
  },
  {
   "cell_type": "markdown",
   "metadata": {},
   "source": [
    "Вспомним как выглядит пикачу"
   ]
  },
  {
   "cell_type": "code",
   "execution_count": 27,
   "metadata": {},
   "outputs": [
    {
     "data": {
      "text/html": [
       "<img src=\"images/pikachu.png\"/>"
      ],
      "text/plain": [
       "<IPython.core.display.Image object>"
      ]
     },
     "execution_count": 27,
     "metadata": {},
     "output_type": "execute_result"
    }
   ],
   "source": [
    "Image(url='images/pikachu.png')"
   ]
  },
  {
   "cell_type": "code",
   "execution_count": 30,
   "metadata": {},
   "outputs": [],
   "source": [
    "from skimage import color\n",
    "from skimage import feature\n",
    "from skimage.filters import sobel"
   ]
  },
  {
   "cell_type": "code",
   "execution_count": 32,
   "metadata": {},
   "outputs": [
    {
     "data": {
      "text/html": [
       "<img src=\"images/pikachu_gray.png\"/>"
      ],
      "text/plain": [
       "<IPython.core.display.Image object>"
      ]
     },
     "execution_count": 32,
     "metadata": {},
     "output_type": "execute_result"
    }
   ],
   "source": [
    "image = io.imread('images/pikachu.png')\n",
    "io.imsave('images/pikachu_gray.png', color.rgb2gray(image))\n",
    "Image(url='images/pikachu_gray.png')"
   ]
  },
  {
   "cell_type": "code",
   "execution_count": 33,
   "metadata": {},
   "outputs": [
    {
     "data": {
      "text/html": [
       "<img src=\"images/pikachu_sobel.png\"/>"
      ],
      "text/plain": [
       "<IPython.core.display.Image object>"
      ]
     },
     "execution_count": 33,
     "metadata": {},
     "output_type": "execute_result"
    }
   ],
   "source": [
    "sobel_image = sobel(color.rgb2gray(image))\n",
    "io.imsave('images/pikachu_sobel.png', sobel_image)\n",
    "Image(url='images/pikachu_sobel.png')"
   ]
  },
  {
   "cell_type": "code",
   "execution_count": 34,
   "metadata": {},
   "outputs": [
    {
     "data": {
      "text/html": [
       "<img src=\"images/pikachu_result.png\"/>"
      ],
      "text/plain": [
       "<IPython.core.display.Image object>"
      ]
     },
     "execution_count": 34,
     "metadata": {},
     "output_type": "execute_result"
    }
   ],
   "source": [
    "edges = feature.canny(color.rgb2gray(image)) # default sigma=1.0\n",
    "io.imsave('images/pikachu_result.png', edges * 255)\n",
    "Image(url='images/pikachu_result.png')"
   ]
  },
  {
   "cell_type": "code",
   "execution_count": 35,
   "metadata": {},
   "outputs": [
    {
     "data": {
      "text/html": [
       "<img src=\"images/plane.png\"/>"
      ],
      "text/plain": [
       "<IPython.core.display.Image object>"
      ]
     },
     "execution_count": 35,
     "metadata": {},
     "output_type": "execute_result"
    }
   ],
   "source": [
    "Image(url='images/plane.png')"
   ]
  },
  {
   "cell_type": "code",
   "execution_count": 36,
   "metadata": {},
   "outputs": [
    {
     "data": {
      "text/html": [
       "<img src=\"images/plane_gray.png\"/>"
      ],
      "text/plain": [
       "<IPython.core.display.Image object>"
      ]
     },
     "execution_count": 36,
     "metadata": {},
     "output_type": "execute_result"
    }
   ],
   "source": [
    "image = io.imread('images/plane.png')\n",
    "io.imsave('images/plane_gray.png', color.rgb2gray(image))\n",
    "Image(url='images/plane_gray.png')"
   ]
  },
  {
   "cell_type": "code",
   "execution_count": 37,
   "metadata": {},
   "outputs": [
    {
     "data": {
      "text/html": [
       "<img src=\"images/plane_sobel.png\"/>"
      ],
      "text/plain": [
       "<IPython.core.display.Image object>"
      ]
     },
     "execution_count": 37,
     "metadata": {},
     "output_type": "execute_result"
    }
   ],
   "source": [
    "sobel_image = sobel(color.rgb2gray(image))\n",
    "io.imsave('images/plane_sobel.png', sobel_image)\n",
    "Image(url='images/plane_sobel.png')"
   ]
  },
  {
   "cell_type": "code",
   "execution_count": 38,
   "metadata": {},
   "outputs": [
    {
     "data": {
      "text/html": [
       "<img src=\"images/plane_result.png\"/>"
      ],
      "text/plain": [
       "<IPython.core.display.Image object>"
      ]
     },
     "execution_count": 38,
     "metadata": {},
     "output_type": "execute_result"
    }
   ],
   "source": [
    "edges = feature.canny(color.rgb2gray(image), sigma=4.0)\n",
    "io.imsave('images/plane_result.png', edges * 255)\n",
    "Image(url='images/plane_result.png')"
   ]
  }
 ],
 "metadata": {
  "kernelspec": {
   "display_name": "Python 3",
   "language": "python",
   "name": "python3"
  },
  "language_info": {
   "codemirror_mode": {
    "name": "ipython",
    "version": 3
   },
   "file_extension": ".py",
   "mimetype": "text/x-python",
   "name": "python",
   "nbconvert_exporter": "python",
   "pygments_lexer": "ipython3",
   "version": "3.6.5"
  }
 },
 "nbformat": 4,
 "nbformat_minor": 2
}
